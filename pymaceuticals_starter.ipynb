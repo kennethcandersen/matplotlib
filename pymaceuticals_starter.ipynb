{
 "cells": [
  {
   "cell_type": "markdown",
   "metadata": {},
   "source": [
    "## Observations and Insights "
   ]
  },
  {
   "cell_type": "markdown",
   "metadata": {},
   "source": []
  },
  {
   "cell_type": "code",
   "execution_count": 333,
   "metadata": {},
   "outputs": [],
   "source": [
    "#                                 CONCLUSIONS\n",
    "\n",
    "#  1. ONLY 2 DRUGS SEEM TO WORK\n",
    "#    Figuring that all mice started treatment with tumor sizes of 45, \n",
    "#    then only 2 drugs finished the study with average tumor size less than 45: Capomuline and Ramicane. \n",
    "#    I'm not sure why the other's are even considered \"Promising,\" they aren't even close. \n",
    "\n",
    "#  2. VERY STRONG CORRELATION COEFFICIENT OF .88 BETWEEN MOUSE WEIGHT AND FINAL TUMOR VOLUME\n",
    "#    This is an interesting phenomenon. All mice started the study with tumor volume at 45. \n",
    "#    Why would the weight of the mouse have such an influence on final tumor volume?\n",
    "\n",
    "#  3. WE NEED TO ANALYZE AGAIN AND CONTROL FOR MOUSE WEIGHT\n",
    "#    My hypothesis would be that maybe the two drugs the seem successful, happened to have a \n",
    "#    disproportionate number of light mice! I was also curious if mice weight changed over the time periods.\n",
    "#    I ran a check and mice did not seem to change weight during the study. However, I also added an \n",
    "#    \"Average Mouse Weight\" column to the summary dataframe below and guest what? The average weight for the \n",
    "#    successful drugs was 20 grams, and the unsuccessful drugs was 27 grams. I would attribute a very large\n",
    "#    percentage of the success to the fact that drugs with high success rates also had lighter mice. "
   ]
  },
  {
   "cell_type": "code",
   "execution_count": 295,
   "metadata": {},
   "outputs": [
    {
     "data": {
      "text/html": [
       "<div>\n",
       "<style scoped>\n",
       "    .dataframe tbody tr th:only-of-type {\n",
       "        vertical-align: middle;\n",
       "    }\n",
       "\n",
       "    .dataframe tbody tr th {\n",
       "        vertical-align: top;\n",
       "    }\n",
       "\n",
       "    .dataframe thead th {\n",
       "        text-align: right;\n",
       "    }\n",
       "</style>\n",
       "<table border=\"1\" class=\"dataframe\">\n",
       "  <thead>\n",
       "    <tr style=\"text-align: right;\">\n",
       "      <th></th>\n",
       "      <th>Mouse ID</th>\n",
       "      <th>Drug Regimen</th>\n",
       "      <th>Sex</th>\n",
       "      <th>Age_months</th>\n",
       "      <th>Weight (g)</th>\n",
       "      <th>Timepoint</th>\n",
       "      <th>Tumor Volume (mm3)</th>\n",
       "      <th>Metastatic Sites</th>\n",
       "    </tr>\n",
       "  </thead>\n",
       "  <tbody>\n",
       "    <tr>\n",
       "      <th>0</th>\n",
       "      <td>k403</td>\n",
       "      <td>Ramicane</td>\n",
       "      <td>Male</td>\n",
       "      <td>21</td>\n",
       "      <td>16</td>\n",
       "      <td>0</td>\n",
       "      <td>45.00</td>\n",
       "      <td>0</td>\n",
       "    </tr>\n",
       "    <tr>\n",
       "      <th>1</th>\n",
       "      <td>k403</td>\n",
       "      <td>Ramicane</td>\n",
       "      <td>Male</td>\n",
       "      <td>21</td>\n",
       "      <td>16</td>\n",
       "      <td>5</td>\n",
       "      <td>38.83</td>\n",
       "      <td>0</td>\n",
       "    </tr>\n",
       "    <tr>\n",
       "      <th>2</th>\n",
       "      <td>k403</td>\n",
       "      <td>Ramicane</td>\n",
       "      <td>Male</td>\n",
       "      <td>21</td>\n",
       "      <td>16</td>\n",
       "      <td>10</td>\n",
       "      <td>35.01</td>\n",
       "      <td>1</td>\n",
       "    </tr>\n",
       "    <tr>\n",
       "      <th>3</th>\n",
       "      <td>k403</td>\n",
       "      <td>Ramicane</td>\n",
       "      <td>Male</td>\n",
       "      <td>21</td>\n",
       "      <td>16</td>\n",
       "      <td>15</td>\n",
       "      <td>34.22</td>\n",
       "      <td>1</td>\n",
       "    </tr>\n",
       "    <tr>\n",
       "      <th>4</th>\n",
       "      <td>k403</td>\n",
       "      <td>Ramicane</td>\n",
       "      <td>Male</td>\n",
       "      <td>21</td>\n",
       "      <td>16</td>\n",
       "      <td>20</td>\n",
       "      <td>33.00</td>\n",
       "      <td>1</td>\n",
       "    </tr>\n",
       "  </tbody>\n",
       "</table>\n",
       "</div>"
      ],
      "text/plain": [
       "  Mouse ID Drug Regimen   Sex  Age_months  Weight (g)  Timepoint  \\\n",
       "0     k403     Ramicane  Male          21          16          0   \n",
       "1     k403     Ramicane  Male          21          16          5   \n",
       "2     k403     Ramicane  Male          21          16         10   \n",
       "3     k403     Ramicane  Male          21          16         15   \n",
       "4     k403     Ramicane  Male          21          16         20   \n",
       "\n",
       "   Tumor Volume (mm3)  Metastatic Sites  \n",
       "0               45.00                 0  \n",
       "1               38.83                 0  \n",
       "2               35.01                 1  \n",
       "3               34.22                 1  \n",
       "4               33.00                 1  "
      ]
     },
     "execution_count": 295,
     "metadata": {},
     "output_type": "execute_result"
    }
   ],
   "source": [
    "# Dependencies and Setup\n",
    "import matplotlib.pyplot as plt\n",
    "import pandas as pd\n",
    "import scipy.stats as st\n",
    "from scipy.stats import sem\n",
    "import numpy as np\n",
    "from scipy import stats\n",
    "\n",
    "# Study data files\n",
    "mouse_metadata_path = \"data/Mouse_metadata.csv\"\n",
    "study_results_path = \"data/Study_results.csv\"\n",
    "\n",
    "# Read the mouse data and the study results\n",
    "mouse_metadata = pd.read_csv(mouse_metadata_path)\n",
    "study_results = pd.read_csv(study_results_path)\n",
    "\n",
    "# Combine the data into a single dataset\n",
    "merge_df = pd.merge(mouse_metadata, study_results, on=\"Mouse ID\")\n",
    "\n",
    "pd.options.display.float_format = '{:,.2f}'.format # Set formatting\n",
    "\n",
    "# Display the data table for preview\n",
    "merge_df.head()"
   ]
  },
  {
   "cell_type": "code",
   "execution_count": 296,
   "metadata": {},
   "outputs": [
    {
     "data": {
      "text/plain": [
       "249"
      ]
     },
     "execution_count": 296,
     "metadata": {},
     "output_type": "execute_result"
    }
   ],
   "source": [
    "# Checking the number of mice.\n",
    "len(merge_df[\"Mouse ID\"].unique())\n"
   ]
  },
  {
   "cell_type": "code",
   "execution_count": 297,
   "metadata": {},
   "outputs": [
    {
     "data": {
      "text/html": [
       "<div>\n",
       "<style scoped>\n",
       "    .dataframe tbody tr th:only-of-type {\n",
       "        vertical-align: middle;\n",
       "    }\n",
       "\n",
       "    .dataframe tbody tr th {\n",
       "        vertical-align: top;\n",
       "    }\n",
       "\n",
       "    .dataframe thead th {\n",
       "        text-align: right;\n",
       "    }\n",
       "</style>\n",
       "<table border=\"1\" class=\"dataframe\">\n",
       "  <thead>\n",
       "    <tr style=\"text-align: right;\">\n",
       "      <th></th>\n",
       "      <th>Duplicated Mouse IDs</th>\n",
       "    </tr>\n",
       "  </thead>\n",
       "  <tbody>\n",
       "    <tr>\n",
       "      <th>0</th>\n",
       "      <td>g989</td>\n",
       "    </tr>\n",
       "  </tbody>\n",
       "</table>\n",
       "</div>"
      ],
      "text/plain": [
       "  Duplicated Mouse IDs\n",
       "0                 g989"
      ]
     },
     "execution_count": 297,
     "metadata": {},
     "output_type": "execute_result"
    }
   ],
   "source": [
    "# Getting the duplicate mice by ID number that shows up for Mouse ID and Timepoint. \n",
    "duplicates_Df = merge_df[merge_df.duplicated([\"Mouse ID\", \"Timepoint\"])]\n",
    "\n",
    "duplicated_ids_df = pd.DataFrame({\"Duplicated Mouse IDs\": duplicates_Df[\"Mouse ID\"].unique()  })\n",
    "duplicated_ids_df"
   ]
  },
  {
   "cell_type": "code",
   "execution_count": 298,
   "metadata": {},
   "outputs": [
    {
     "data": {
      "text/html": [
       "<div>\n",
       "<style scoped>\n",
       "    .dataframe tbody tr th:only-of-type {\n",
       "        vertical-align: middle;\n",
       "    }\n",
       "\n",
       "    .dataframe tbody tr th {\n",
       "        vertical-align: top;\n",
       "    }\n",
       "\n",
       "    .dataframe thead th {\n",
       "        text-align: right;\n",
       "    }\n",
       "</style>\n",
       "<table border=\"1\" class=\"dataframe\">\n",
       "  <thead>\n",
       "    <tr style=\"text-align: right;\">\n",
       "      <th></th>\n",
       "      <th>Mouse ID</th>\n",
       "      <th>Drug Regimen</th>\n",
       "      <th>Sex</th>\n",
       "      <th>Age_months</th>\n",
       "      <th>Weight (g)</th>\n",
       "      <th>Timepoint</th>\n",
       "      <th>Tumor Volume (mm3)</th>\n",
       "      <th>Metastatic Sites</th>\n",
       "    </tr>\n",
       "  </thead>\n",
       "  <tbody>\n",
       "    <tr>\n",
       "      <th>909</th>\n",
       "      <td>g989</td>\n",
       "      <td>Propriva</td>\n",
       "      <td>Female</td>\n",
       "      <td>21</td>\n",
       "      <td>26</td>\n",
       "      <td>0</td>\n",
       "      <td>45.00</td>\n",
       "      <td>0</td>\n",
       "    </tr>\n",
       "    <tr>\n",
       "      <th>911</th>\n",
       "      <td>g989</td>\n",
       "      <td>Propriva</td>\n",
       "      <td>Female</td>\n",
       "      <td>21</td>\n",
       "      <td>26</td>\n",
       "      <td>5</td>\n",
       "      <td>47.57</td>\n",
       "      <td>0</td>\n",
       "    </tr>\n",
       "    <tr>\n",
       "      <th>913</th>\n",
       "      <td>g989</td>\n",
       "      <td>Propriva</td>\n",
       "      <td>Female</td>\n",
       "      <td>21</td>\n",
       "      <td>26</td>\n",
       "      <td>10</td>\n",
       "      <td>49.88</td>\n",
       "      <td>0</td>\n",
       "    </tr>\n",
       "    <tr>\n",
       "      <th>915</th>\n",
       "      <td>g989</td>\n",
       "      <td>Propriva</td>\n",
       "      <td>Female</td>\n",
       "      <td>21</td>\n",
       "      <td>26</td>\n",
       "      <td>15</td>\n",
       "      <td>53.44</td>\n",
       "      <td>0</td>\n",
       "    </tr>\n",
       "    <tr>\n",
       "      <th>917</th>\n",
       "      <td>g989</td>\n",
       "      <td>Propriva</td>\n",
       "      <td>Female</td>\n",
       "      <td>21</td>\n",
       "      <td>26</td>\n",
       "      <td>20</td>\n",
       "      <td>54.66</td>\n",
       "      <td>1</td>\n",
       "    </tr>\n",
       "  </tbody>\n",
       "</table>\n",
       "</div>"
      ],
      "text/plain": [
       "    Mouse ID Drug Regimen     Sex  Age_months  Weight (g)  Timepoint  \\\n",
       "909     g989     Propriva  Female          21          26          0   \n",
       "911     g989     Propriva  Female          21          26          5   \n",
       "913     g989     Propriva  Female          21          26         10   \n",
       "915     g989     Propriva  Female          21          26         15   \n",
       "917     g989     Propriva  Female          21          26         20   \n",
       "\n",
       "     Tumor Volume (mm3)  Metastatic Sites  \n",
       "909               45.00                 0  \n",
       "911               47.57                 0  \n",
       "913               49.88                 0  \n",
       "915               53.44                 0  \n",
       "917               54.66                 1  "
      ]
     },
     "execution_count": 298,
     "metadata": {},
     "output_type": "execute_result"
    }
   ],
   "source": [
    "# Optional: Get all the data for the duplicate mouse ID. \n",
    "\n",
    "duplicates_Df"
   ]
  },
  {
   "cell_type": "code",
   "execution_count": 299,
   "metadata": {},
   "outputs": [
    {
     "data": {
      "text/html": [
       "<div>\n",
       "<style scoped>\n",
       "    .dataframe tbody tr th:only-of-type {\n",
       "        vertical-align: middle;\n",
       "    }\n",
       "\n",
       "    .dataframe tbody tr th {\n",
       "        vertical-align: top;\n",
       "    }\n",
       "\n",
       "    .dataframe thead th {\n",
       "        text-align: right;\n",
       "    }\n",
       "</style>\n",
       "<table border=\"1\" class=\"dataframe\">\n",
       "  <thead>\n",
       "    <tr style=\"text-align: right;\">\n",
       "      <th></th>\n",
       "      <th>Mouse ID</th>\n",
       "      <th>Drug Regimen</th>\n",
       "      <th>Sex</th>\n",
       "      <th>Age_months</th>\n",
       "      <th>Weight (g)</th>\n",
       "      <th>Timepoint</th>\n",
       "      <th>Tumor Volume (mm3)</th>\n",
       "      <th>Metastatic Sites</th>\n",
       "    </tr>\n",
       "  </thead>\n",
       "  <tbody>\n",
       "    <tr>\n",
       "      <th>0</th>\n",
       "      <td>k403</td>\n",
       "      <td>Ramicane</td>\n",
       "      <td>Male</td>\n",
       "      <td>21</td>\n",
       "      <td>16</td>\n",
       "      <td>0</td>\n",
       "      <td>45.00</td>\n",
       "      <td>0</td>\n",
       "    </tr>\n",
       "    <tr>\n",
       "      <th>1</th>\n",
       "      <td>k403</td>\n",
       "      <td>Ramicane</td>\n",
       "      <td>Male</td>\n",
       "      <td>21</td>\n",
       "      <td>16</td>\n",
       "      <td>5</td>\n",
       "      <td>38.83</td>\n",
       "      <td>0</td>\n",
       "    </tr>\n",
       "    <tr>\n",
       "      <th>2</th>\n",
       "      <td>k403</td>\n",
       "      <td>Ramicane</td>\n",
       "      <td>Male</td>\n",
       "      <td>21</td>\n",
       "      <td>16</td>\n",
       "      <td>10</td>\n",
       "      <td>35.01</td>\n",
       "      <td>1</td>\n",
       "    </tr>\n",
       "    <tr>\n",
       "      <th>3</th>\n",
       "      <td>k403</td>\n",
       "      <td>Ramicane</td>\n",
       "      <td>Male</td>\n",
       "      <td>21</td>\n",
       "      <td>16</td>\n",
       "      <td>15</td>\n",
       "      <td>34.22</td>\n",
       "      <td>1</td>\n",
       "    </tr>\n",
       "    <tr>\n",
       "      <th>4</th>\n",
       "      <td>k403</td>\n",
       "      <td>Ramicane</td>\n",
       "      <td>Male</td>\n",
       "      <td>21</td>\n",
       "      <td>16</td>\n",
       "      <td>20</td>\n",
       "      <td>33.00</td>\n",
       "      <td>1</td>\n",
       "    </tr>\n",
       "  </tbody>\n",
       "</table>\n",
       "</div>"
      ],
      "text/plain": [
       "  Mouse ID Drug Regimen   Sex  Age_months  Weight (g)  Timepoint  \\\n",
       "0     k403     Ramicane  Male          21          16          0   \n",
       "1     k403     Ramicane  Male          21          16          5   \n",
       "2     k403     Ramicane  Male          21          16         10   \n",
       "3     k403     Ramicane  Male          21          16         15   \n",
       "4     k403     Ramicane  Male          21          16         20   \n",
       "\n",
       "   Tumor Volume (mm3)  Metastatic Sites  \n",
       "0               45.00                 0  \n",
       "1               38.83                 0  \n",
       "2               35.01                 1  \n",
       "3               34.22                 1  \n",
       "4               33.00                 1  "
      ]
     },
     "execution_count": 299,
     "metadata": {},
     "output_type": "execute_result"
    }
   ],
   "source": [
    "# Create a clean DataFrame by dropping the duplicate mouse by its ID.\n",
    "\n",
    "clean_merge_df = merge_df.loc[merge_df[\"Mouse ID\"] != \"g989\"]\n",
    "\n",
    "clean_merge_df.head()"
   ]
  },
  {
   "cell_type": "code",
   "execution_count": 300,
   "metadata": {},
   "outputs": [
    {
     "data": {
      "text/plain": [
       "248"
      ]
     },
     "execution_count": 300,
     "metadata": {},
     "output_type": "execute_result"
    }
   ],
   "source": [
    "# Checking the number of mice in the clean DataFrame.\n",
    "len(clean_merge_df[\"Mouse ID\"].unique())"
   ]
  },
  {
   "cell_type": "markdown",
   "metadata": {},
   "source": [
    "## Summary Statistics"
   ]
  },
  {
   "cell_type": "code",
   "execution_count": 301,
   "metadata": {},
   "outputs": [
    {
     "data": {
      "text/html": [
       "<div>\n",
       "<style scoped>\n",
       "    .dataframe tbody tr th:only-of-type {\n",
       "        vertical-align: middle;\n",
       "    }\n",
       "\n",
       "    .dataframe tbody tr th {\n",
       "        vertical-align: top;\n",
       "    }\n",
       "\n",
       "    .dataframe thead th {\n",
       "        text-align: right;\n",
       "    }\n",
       "</style>\n",
       "<table border=\"1\" class=\"dataframe\">\n",
       "  <thead>\n",
       "    <tr style=\"text-align: right;\">\n",
       "      <th></th>\n",
       "      <th>Mean</th>\n",
       "      <th>Median</th>\n",
       "      <th>Mode</th>\n",
       "      <th>Variance</th>\n",
       "      <th>Standard Dev</th>\n",
       "      <th>SEM</th>\n",
       "    </tr>\n",
       "    <tr>\n",
       "      <th>Drug Regimen</th>\n",
       "      <th></th>\n",
       "      <th></th>\n",
       "      <th></th>\n",
       "      <th></th>\n",
       "      <th></th>\n",
       "      <th></th>\n",
       "    </tr>\n",
       "  </thead>\n",
       "  <tbody>\n",
       "    <tr>\n",
       "      <th>Capomulin</th>\n",
       "      <td>40.68</td>\n",
       "      <td>41.56</td>\n",
       "      <td>45.00</td>\n",
       "      <td>24.95</td>\n",
       "      <td>4.99</td>\n",
       "      <td>0.33</td>\n",
       "    </tr>\n",
       "    <tr>\n",
       "      <th>Ceftamin</th>\n",
       "      <td>52.59</td>\n",
       "      <td>51.78</td>\n",
       "      <td>45.00</td>\n",
       "      <td>39.29</td>\n",
       "      <td>6.27</td>\n",
       "      <td>0.47</td>\n",
       "    </tr>\n",
       "    <tr>\n",
       "      <th>Infubinol</th>\n",
       "      <td>52.88</td>\n",
       "      <td>51.82</td>\n",
       "      <td>45.00</td>\n",
       "      <td>43.13</td>\n",
       "      <td>6.57</td>\n",
       "      <td>0.49</td>\n",
       "    </tr>\n",
       "    <tr>\n",
       "      <th>Ketapril</th>\n",
       "      <td>55.24</td>\n",
       "      <td>53.70</td>\n",
       "      <td>45.00</td>\n",
       "      <td>68.55</td>\n",
       "      <td>8.28</td>\n",
       "      <td>0.60</td>\n",
       "    </tr>\n",
       "    <tr>\n",
       "      <th>Naftisol</th>\n",
       "      <td>54.33</td>\n",
       "      <td>52.51</td>\n",
       "      <td>45.00</td>\n",
       "      <td>66.17</td>\n",
       "      <td>8.13</td>\n",
       "      <td>0.60</td>\n",
       "    </tr>\n",
       "    <tr>\n",
       "      <th>Placebo</th>\n",
       "      <td>54.03</td>\n",
       "      <td>52.29</td>\n",
       "      <td>45.00</td>\n",
       "      <td>61.17</td>\n",
       "      <td>7.82</td>\n",
       "      <td>0.58</td>\n",
       "    </tr>\n",
       "    <tr>\n",
       "      <th>Propriva</th>\n",
       "      <td>52.32</td>\n",
       "      <td>50.45</td>\n",
       "      <td>45.00</td>\n",
       "      <td>43.85</td>\n",
       "      <td>6.62</td>\n",
       "      <td>0.54</td>\n",
       "    </tr>\n",
       "    <tr>\n",
       "      <th>Ramicane</th>\n",
       "      <td>40.22</td>\n",
       "      <td>40.67</td>\n",
       "      <td>45.00</td>\n",
       "      <td>23.49</td>\n",
       "      <td>4.85</td>\n",
       "      <td>0.32</td>\n",
       "    </tr>\n",
       "    <tr>\n",
       "      <th>Stelasyn</th>\n",
       "      <td>54.23</td>\n",
       "      <td>52.43</td>\n",
       "      <td>45.00</td>\n",
       "      <td>59.45</td>\n",
       "      <td>7.71</td>\n",
       "      <td>0.57</td>\n",
       "    </tr>\n",
       "    <tr>\n",
       "      <th>Zoniferol</th>\n",
       "      <td>53.24</td>\n",
       "      <td>51.82</td>\n",
       "      <td>45.00</td>\n",
       "      <td>48.53</td>\n",
       "      <td>6.97</td>\n",
       "      <td>0.52</td>\n",
       "    </tr>\n",
       "  </tbody>\n",
       "</table>\n",
       "</div>"
      ],
      "text/plain": [
       "              Mean  Median  Mode  Variance  Standard Dev  SEM\n",
       "Drug Regimen                                                 \n",
       "Capomulin    40.68   41.56 45.00     24.95          4.99 0.33\n",
       "Ceftamin     52.59   51.78 45.00     39.29          6.27 0.47\n",
       "Infubinol    52.88   51.82 45.00     43.13          6.57 0.49\n",
       "Ketapril     55.24   53.70 45.00     68.55          8.28 0.60\n",
       "Naftisol     54.33   52.51 45.00     66.17          8.13 0.60\n",
       "Placebo      54.03   52.29 45.00     61.17          7.82 0.58\n",
       "Propriva     52.32   50.45 45.00     43.85          6.62 0.54\n",
       "Ramicane     40.22   40.67 45.00     23.49          4.85 0.32\n",
       "Stelasyn     54.23   52.43 45.00     59.45          7.71 0.57\n",
       "Zoniferol    53.24   51.82 45.00     48.53          6.97 0.52"
      ]
     },
     "execution_count": 301,
     "metadata": {},
     "output_type": "execute_result"
    }
   ],
   "source": [
    "# Generate a summary statistics table of mean, median, variance, standard deviation, and SEM of the tumor volume for each regimen\n",
    "\n",
    "# Use groupby and summary statistical methods to calculate the following properties of each drug regimen: \n",
    "# mean, median, variance, standard deviation, and SEM of the tumor volume. \n",
    "# Assemble the resulting series into a single summary dataframe.\n",
    "\n",
    "drug_regimen_groupby = clean_merge_df.groupby('Drug Regimen')\n",
    "\n",
    "#drug_regimen_groupby_df = pd.DataFrame({\"Tumor Volume\": drug_regimen_groupby[\"Tumor Volume (mm3)\"]})\n",
    "\n",
    "tumor_vol_df = pd.DataFrame({\"Mean\" : drug_regimen_groupby[\"Tumor Volume (mm3)\"].mean(), \n",
    "                             \"Median\" : drug_regimen_groupby[\"Tumor Volume (mm3)\"].median(),\n",
    "                            \"Mode\" : drug_regimen_groupby[\"Tumor Volume (mm3)\"].agg(pd.Series.mode), \n",
    "                             \"Variance\" : drug_regimen_groupby[\"Tumor Volume (mm3)\"].var(),\n",
    "                             \"Standard Dev\" : drug_regimen_groupby[\"Tumor Volume (mm3)\"].std(),\n",
    "                             \"SEM\" : drug_regimen_groupby[\"Tumor Volume (mm3)\"].sem()             })    \n",
    "\n",
    "tumor_vol_df\n"
   ]
  },
  {
   "cell_type": "code",
   "execution_count": 302,
   "metadata": {},
   "outputs": [
    {
     "data": {
      "text/html": [
       "<div>\n",
       "<style scoped>\n",
       "    .dataframe tbody tr th:only-of-type {\n",
       "        vertical-align: middle;\n",
       "    }\n",
       "\n",
       "    .dataframe tbody tr th {\n",
       "        vertical-align: top;\n",
       "    }\n",
       "\n",
       "    .dataframe thead th {\n",
       "        text-align: right;\n",
       "    }\n",
       "</style>\n",
       "<table border=\"1\" class=\"dataframe\">\n",
       "  <thead>\n",
       "    <tr style=\"text-align: right;\">\n",
       "      <th></th>\n",
       "      <th>Mean</th>\n",
       "      <th>Median</th>\n",
       "      <th>Mode</th>\n",
       "      <th>Variance</th>\n",
       "      <th>Standard Dev</th>\n",
       "      <th>SEM</th>\n",
       "    </tr>\n",
       "  </thead>\n",
       "  <tbody>\n",
       "    <tr>\n",
       "      <th>mean</th>\n",
       "      <td>50.98</td>\n",
       "      <td>49.90</td>\n",
       "      <td>45.00</td>\n",
       "      <td>47.86</td>\n",
       "      <td>6.82</td>\n",
       "      <td>0.50</td>\n",
       "    </tr>\n",
       "  </tbody>\n",
       "</table>\n",
       "</div>"
      ],
      "text/plain": [
       "      Mean  Median  Mode  Variance  Standard Dev  SEM\n",
       "mean 50.98   49.90 45.00     47.86          6.82 0.50"
      ]
     },
     "execution_count": 302,
     "metadata": {},
     "output_type": "execute_result"
    }
   ],
   "source": [
    "# Generate a summary statistics table of mean, median, variance, standard deviation, and SEM of the tumor volume for each regimen\n",
    "\n",
    "# Using the aggregation method, produce the same summary statistics in a single line\n",
    "\n",
    "tumor_vol_df.agg([\"mean\"])\n",
    "\n",
    "\n"
   ]
  },
  {
   "cell_type": "markdown",
   "metadata": {},
   "source": [
    "## Bar and Pie Charts"
   ]
  },
  {
   "cell_type": "code",
   "execution_count": 303,
   "metadata": {},
   "outputs": [
    {
     "data": {
      "text/plain": [
       "(0.0, 255.0)"
      ]
     },
     "execution_count": 303,
     "metadata": {},
     "output_type": "execute_result"
    },
    {
     "data": {
      "image/png": "[encoded data removed]",
      "text/plain": [
       "<Figure size 720x360 with 1 Axes>"
      ]
     },
     "metadata": {
      "needs_background": "light"
     },
     "output_type": "display_data"
    }
   ],
   "source": [
    "# Generate a bar plot showing the total number of measurements taken on each drug regimen using pandas.\n",
    "\n",
    "drug_regimen_df = pd.DataFrame({\"Total Number of Measurments\" : clean_merge_df[\"Drug Regimen\"].value_counts()})\n",
    "#drug_regimen_df\n",
    "\n",
    "drug_regimen_bar = drug_regimen_df.plot.bar(y=\"Total Number of Measurments\", rot=45, color='steelblue', figsize=(10,5), legend=False)\n",
    "drug_regimen_bar.set_title(\"Total Number of Measurments by Drug Regemen\")\n",
    "drug_regimen_bar.set_xlabel(\"Drug Regimen\")\n",
    "drug_regimen_bar.set_ylabel(\"Total Number of Measurements\")\n",
    "plt.xlim(-1, len(drug_regimen_df.index))\n",
    "plt.ylim(0, max(drug_regimen_df[\"Total Number of Measurments\"])+25)"
   ]
  },
  {
   "cell_type": "code",
   "execution_count": 304,
   "metadata": {},
   "outputs": [
    {
     "data": {
      "image/png": "[encoded data removed]",
      "text/plain": [
       "<Figure size 720x360 with 1 Axes>"
      ]
     },
     "metadata": {
      "needs_background": "light"
     },
     "output_type": "display_data"
    }
   ],
   "source": [
    "# Generate a bar plot showing the total number of measurements taken on each drug regimen using pyplot\n",
    "plt.figure(figsize=(10, 5))\n",
    "plt.bar(drug_regimen_df.index, drug_regimen_df[\"Total Number of Measurments\"], color='steelblue', align=\"center\")\n",
    "tick_locations = [value for value in drug_regimen_df.index]\n",
    "plt.xticks(tick_locations, drug_regimen_df.index, rotation=45)\n",
    "plt.title(\"Total Number of Measurments\")\n",
    "plt.xlabel(\"Drug Regimen\")\n",
    "plt.ylabel(\"Total Number of Measurements\")\n",
    "plt.xlim(-1, len(drug_regimen_df.index))\n",
    "plt.ylim(0, max(drug_regimen_df[\"Total Number of Measurments\"])+25)\n",
    "\n",
    "plt.show()"
   ]
  },
  {
   "cell_type": "code",
   "execution_count": 305,
   "metadata": {},
   "outputs": [
    {
     "data": {
      "image/png": "[encoded data removed]",
      "text/plain": [
       "<Figure size 576x576 with 1 Axes>"
      ]
     },
     "metadata": {},
     "output_type": "display_data"
    }
   ],
   "source": [
    "# Generate a pie plot showing the distribution of female versus male mice using pandas\n",
    "mouse_gender_df = pd.DataFrame({\"Mouse Gender\" : clean_merge_df[\"Sex\"].value_counts()})\n",
    "\n",
    "colors = [\"lightblue\", \"pink\"]\n",
    "mouse_gender_pie = mouse_gender_df.plot.pie(y=\"Mouse Gender\", shadow=True, \n",
    "                                            figsize=(8,8), ylabel='', autopct = \"%.0f%%\", colors=colors, startangle=90)\n",
    "\n",
    "\n"
   ]
  },
  {
   "cell_type": "code",
   "execution_count": 306,
   "metadata": {},
   "outputs": [
    {
     "data": {
      "image/png": "[encoded data removed]",
      "text/plain": [
       "<Figure size 504x504 with 1 Axes>"
      ]
     },
     "metadata": {},
     "output_type": "display_data"
    }
   ],
   "source": [
    "# Generate a pie plot showing the distribution of female versus male mice using pyplot\n",
    "\n",
    "labels = [\"Males\", \"Females\"]\n",
    "gender_counts = clean_merge_df[\"Sex\"].value_counts()\n",
    "colors = [\"lightblue\", \"pink\"]\n",
    "plt.figure(figsize=(7, 7))\n",
    "plt.pie(gender_counts, labels=labels, colors=colors, autopct=\"%1.0f%%\", shadow=True, startangle=90)\n",
    "plt.axis(\"equal\")\n",
    "plt.legend()\n",
    "plt.show()\n"
   ]
  },
  {
   "cell_type": "markdown",
   "metadata": {},
   "source": [
    "## Quartiles, Outliers and Boxplots"
   ]
  },
  {
   "cell_type": "code",
   "execution_count": 315,
   "metadata": {},
   "outputs": [
    {
     "data": {
      "text/html": [
       "<div>\n",
       "<style scoped>\n",
       "    .dataframe tbody tr th:only-of-type {\n",
       "        vertical-align: middle;\n",
       "    }\n",
       "\n",
       "    .dataframe tbody tr th {\n",
       "        vertical-align: top;\n",
       "    }\n",
       "\n",
       "    .dataframe thead th {\n",
       "        text-align: right;\n",
       "    }\n",
       "</style>\n",
       "<table border=\"1\" class=\"dataframe\">\n",
       "  <thead>\n",
       "    <tr style=\"text-align: right;\">\n",
       "      <th></th>\n",
       "      <th>Mouse ID</th>\n",
       "      <th>Drug Regimen</th>\n",
       "      <th>Sex</th>\n",
       "      <th>Age_months</th>\n",
       "      <th>Weight (g)</th>\n",
       "      <th>Timepoint</th>\n",
       "      <th>Tumor Volume (mm3)</th>\n",
       "      <th>Metastatic Sites</th>\n",
       "    </tr>\n",
       "  </thead>\n",
       "  <tbody>\n",
       "    <tr>\n",
       "      <th>309</th>\n",
       "      <td>b128</td>\n",
       "      <td>Capomulin</td>\n",
       "      <td>Female</td>\n",
       "      <td>9</td>\n",
       "      <td>22</td>\n",
       "      <td>45</td>\n",
       "      <td>38.98</td>\n",
       "      <td>2</td>\n",
       "    </tr>\n",
       "    <tr>\n",
       "      <th>299</th>\n",
       "      <td>b742</td>\n",
       "      <td>Capomulin</td>\n",
       "      <td>Male</td>\n",
       "      <td>7</td>\n",
       "      <td>21</td>\n",
       "      <td>45</td>\n",
       "      <td>38.94</td>\n",
       "      <td>0</td>\n",
       "    </tr>\n",
       "    <tr>\n",
       "      <th>64</th>\n",
       "      <td>f966</td>\n",
       "      <td>Capomulin</td>\n",
       "      <td>Male</td>\n",
       "      <td>16</td>\n",
       "      <td>17</td>\n",
       "      <td>20</td>\n",
       "      <td>30.49</td>\n",
       "      <td>0</td>\n",
       "    </tr>\n",
       "    <tr>\n",
       "      <th>244</th>\n",
       "      <td>g288</td>\n",
       "      <td>Capomulin</td>\n",
       "      <td>Male</td>\n",
       "      <td>3</td>\n",
       "      <td>19</td>\n",
       "      <td>45</td>\n",
       "      <td>37.07</td>\n",
       "      <td>1</td>\n",
       "    </tr>\n",
       "    <tr>\n",
       "      <th>360</th>\n",
       "      <td>g316</td>\n",
       "      <td>Capomulin</td>\n",
       "      <td>Female</td>\n",
       "      <td>22</td>\n",
       "      <td>22</td>\n",
       "      <td>45</td>\n",
       "      <td>40.16</td>\n",
       "      <td>2</td>\n",
       "    </tr>\n",
       "  </tbody>\n",
       "</table>\n",
       "</div>"
      ],
      "text/plain": [
       "    Mouse ID Drug Regimen     Sex  Age_months  Weight (g)  Timepoint  \\\n",
       "309     b128    Capomulin  Female           9          22         45   \n",
       "299     b742    Capomulin    Male           7          21         45   \n",
       "64      f966    Capomulin    Male          16          17         20   \n",
       "244     g288    Capomulin    Male           3          19         45   \n",
       "360     g316    Capomulin  Female          22          22         45   \n",
       "\n",
       "     Tumor Volume (mm3)  Metastatic Sites  \n",
       "309               38.98                 2  \n",
       "299               38.94                 0  \n",
       "64                30.49                 0  \n",
       "244               37.07                 1  \n",
       "360               40.16                 2  "
      ]
     },
     "execution_count": 315,
     "metadata": {},
     "output_type": "execute_result"
    }
   ],
   "source": [
    "# Calculate the final tumor volume of each mouse across four of the treatment regimens:  \n",
    "# Capomulin, Ramicane, Infubinol, and Ceftamin\n",
    "\n",
    "mouse_final_vol = clean_merge_df.loc[clean_merge_df.groupby(['Drug Regimen', 'Mouse ID'])[\"Timepoint\"].idxmax()]  \n",
    "mouse_final_vol.head()"
   ]
  },
  {
   "cell_type": "code",
   "execution_count": 340,
   "metadata": {},
   "outputs": [
    {
     "data": {
      "text/html": [
       "<div>\n",
       "<style scoped>\n",
       "    .dataframe tbody tr th:only-of-type {\n",
       "        vertical-align: middle;\n",
       "    }\n",
       "\n",
       "    .dataframe tbody tr th {\n",
       "        vertical-align: top;\n",
       "    }\n",
       "\n",
       "    .dataframe thead th {\n",
       "        text-align: right;\n",
       "    }\n",
       "</style>\n",
       "<table border=\"1\" class=\"dataframe\">\n",
       "  <thead>\n",
       "    <tr style=\"text-align: right;\">\n",
       "      <th></th>\n",
       "      <th>Drug Regimen</th>\n",
       "      <th>Lower Quartile</th>\n",
       "      <th>Upper Quartile</th>\n",
       "      <th>Interquartile Range</th>\n",
       "      <th>Mean Volume</th>\n",
       "      <th>Median Volume</th>\n",
       "      <th>Lower Bound</th>\n",
       "      <th>Upper Bound</th>\n",
       "      <th>Outliers</th>\n",
       "      <th>Average Mouse Weight</th>\n",
       "    </tr>\n",
       "  </thead>\n",
       "  <tbody>\n",
       "    <tr>\n",
       "      <th>0</th>\n",
       "      <td>Capomulin</td>\n",
       "      <td>32.38</td>\n",
       "      <td>40.16</td>\n",
       "      <td>7.78</td>\n",
       "      <td>36.67</td>\n",
       "      <td>38.13</td>\n",
       "      <td>20.70</td>\n",
       "      <td>51.83</td>\n",
       "      <td>[]</td>\n",
       "      <td>20.12</td>\n",
       "    </tr>\n",
       "    <tr>\n",
       "      <th>1</th>\n",
       "      <td>Ramicane</td>\n",
       "      <td>31.56</td>\n",
       "      <td>40.66</td>\n",
       "      <td>9.10</td>\n",
       "      <td>36.19</td>\n",
       "      <td>36.56</td>\n",
       "      <td>17.91</td>\n",
       "      <td>54.31</td>\n",
       "      <td>[]</td>\n",
       "      <td>20.00</td>\n",
       "    </tr>\n",
       "    <tr>\n",
       "      <th>2</th>\n",
       "      <td>Infubinol</td>\n",
       "      <td>54.05</td>\n",
       "      <td>65.53</td>\n",
       "      <td>11.48</td>\n",
       "      <td>58.18</td>\n",
       "      <td>60.17</td>\n",
       "      <td>36.83</td>\n",
       "      <td>82.74</td>\n",
       "      <td>[36.32]</td>\n",
       "      <td>27.32</td>\n",
       "    </tr>\n",
       "    <tr>\n",
       "      <th>3</th>\n",
       "      <td>Ceftamin</td>\n",
       "      <td>48.72</td>\n",
       "      <td>64.30</td>\n",
       "      <td>15.58</td>\n",
       "      <td>57.75</td>\n",
       "      <td>59.85</td>\n",
       "      <td>25.36</td>\n",
       "      <td>87.67</td>\n",
       "      <td>[]</td>\n",
       "      <td>27.40</td>\n",
       "    </tr>\n",
       "  </tbody>\n",
       "</table>\n",
       "</div>"
      ],
      "text/plain": [
       "  Drug Regimen  Lower Quartile  Upper Quartile  Interquartile Range  \\\n",
       "0    Capomulin           32.38           40.16                 7.78   \n",
       "1     Ramicane           31.56           40.66                 9.10   \n",
       "2    Infubinol           54.05           65.53                11.48   \n",
       "3     Ceftamin           48.72           64.30                15.58   \n",
       "\n",
       "   Mean Volume  Median Volume  Lower Bound  Upper Bound Outliers  \\\n",
       "0        36.67          38.13        20.70        51.83       []   \n",
       "1        36.19          36.56        17.91        54.31       []   \n",
       "2        58.18          60.17        36.83        82.74  [36.32]   \n",
       "3        57.75          59.85        25.36        87.67       []   \n",
       "\n",
       "   Average Mouse Weight  \n",
       "0                 20.12  \n",
       "1                 20.00  \n",
       "2                 27.32  \n",
       "3                 27.40  "
      ]
     },
     "execution_count": 340,
     "metadata": {},
     "output_type": "execute_result"
    }
   ],
   "source": [
    "# Put treatments into a list for for loop (and later for plot labels)\n",
    "\n",
    "drug_regimens = ['Capomulin', 'Ramicane', 'Infubinol', 'Ceftamin']\n",
    "\n",
    "#drug_regimens = mouse_final_vol[\"Drug Regimen\"].unique()\n",
    "\n",
    "# Create empty list to fill with tumor vol data (for plotting)\n",
    "\n",
    "tumor_vol_data = []\n",
    "\n",
    "lower_quartiles = []\n",
    "upper_quartiles = []\n",
    "means=[]\n",
    "medians = []\n",
    "iqrs = []\n",
    "lower_bounds = []\n",
    "upper_bounds = []\n",
    "outliers_all = []\n",
    "ave_weights = []\n",
    "\n",
    "# Calculate the IQR and quantitatively determine if there are any potential outliers. \n",
    "\n",
    "for regimen in drug_regimens:\n",
    "\n",
    "    # Locate the rows which contain mice on each drug and get the tumor volumes\n",
    "       \n",
    "    regimen_specific_rows = mouse_final_vol.loc[merge_df[\"Drug Regimen\"] == regimen]\n",
    "\n",
    "    # add subset for the boxplots farther down\n",
    "    \n",
    "    tumor_volumes = regimen_specific_rows[\"Tumor Volume (mm3)\"]\n",
    "    \n",
    "    tumor_vol_data.append(tumor_volumes)\n",
    "\n",
    "    \n",
    "    # Determine outliers using upper and lower bounds\n",
    "    quartiles = tumor_volumes.quantile([.25,.5,.75])\n",
    "    \n",
    "    lowerq = quartiles[0.25]\n",
    "    lower_quartiles.append(lowerq)\n",
    "    \n",
    "    upperq = quartiles[0.75]\n",
    "    upper_quartiles.append(upperq)\n",
    "    \n",
    "    mean=tumor_volumes.mean()\n",
    "    means.append(mean)\n",
    "    \n",
    "    median = quartiles[0.5]\n",
    "    medians.append(median)\n",
    "    \n",
    "    iqr = upperq-lowerq\n",
    "    iqrs.append(iqr)\n",
    "\n",
    "\n",
    "    lower_bound = lowerq - (1.5*iqr)\n",
    "    lower_bounds.append(lower_bound)\n",
    "    \n",
    "    upper_bound = upperq + (1.5*iqr)\n",
    "    upper_bounds.append(upper_bound)\n",
    "\n",
    "\n",
    "    outliers = []\n",
    "    for row in tumor_volumes:\n",
    "        if row > upper_bound or row < lower_bound:\n",
    "            outliers.append(round(row ,2))\n",
    "    outliers_all.append(outliers)\n",
    "    \n",
    "    regimen_specific_rows2 = mouse_final_vol.loc[merge_df[\"Drug Regimen\"] == regimen]\n",
    "    \n",
    "    weights = regimen_specific_rows[\"Weight (g)\"]\n",
    "    \n",
    "    ave_weight = weights.mean()\n",
    "    ave_weights.append(ave_weight)\n",
    "    \n",
    "promising_regimens_df = pd.DataFrame({\"Drug Regimen\" : drug_regimens,\n",
    "                                    \n",
    "                                 \"Lower Quartile\" : lower_quartiles,\n",
    "\n",
    "                                 \"Upper Quartile\" : upper_quartiles,\n",
    "\n",
    "                                 \"Interquartile Range\" : iqrs,\n",
    "                                      \n",
    "                                 \"Mean Volume\" : means,\n",
    "\n",
    "                                 \"Median Volume\" : medians,\n",
    "\n",
    "                                 \"Lower Bound\" : lower_bounds,\n",
    "\n",
    "                                  \"Upper Bound\" : upper_bounds,\n",
    "\n",
    "                                  \"Outliers\" : outliers_all,\n",
    "                                      \n",
    "                                  \"Average Mouse Weight\" : ave_weights\n",
    "                                 })\n",
    "promising_regimens_df    \n"
   ]
  },
  {
   "cell_type": "code",
   "execution_count": 332,
   "metadata": {},
   "outputs": [
    {
     "data": {
      "image/png": "[encoded data removed]",
      "text/plain": [
       "<Figure size 1080x504 with 1 Axes>"
      ]
     },
     "metadata": {
      "needs_background": "light"
     },
     "output_type": "display_data"
    }
   ],
   "source": [
    "# Generate a box plot of the final tumor volume of each mouse across four regimens of interest\n",
    "\n",
    "x_axis = drug_regimens\n",
    "fig1, ax1 = plt.subplots(figsize=(15, 7))\n",
    "ax1.set_title('Box Plots of 4 Promising Drug Regimens')\n",
    "flierprops = dict(marker='o', markerfacecolor='r', markersize=10,\n",
    "                  linestyle='none')\n",
    "\n",
    "ax1.boxplot(tumor_vol_data, flierprops=flierprops)\n",
    "ax1.set_ylabel(\"Tumor Volume\")\n",
    "plt.xticks([x for x in range(1, len(drug_regimens)+1)], drug_regimens, rotation=45)\n",
    "plt.show()\n",
    "#tumor_vol_data"
   ]
  },
  {
   "cell_type": "markdown",
   "metadata": {},
   "source": [
    "## Line and Scatter Plots"
   ]
  },
  {
   "cell_type": "code",
   "execution_count": 228,
   "metadata": {},
   "outputs": [
    {
     "data": {
      "image/png": "[encoded data removed]",
      "text/plain": [
       "<Figure size 720x504 with 1 Axes>"
      ]
     },
     "metadata": {
      "needs_background": "light"
     },
     "output_type": "display_data"
    }
   ],
   "source": [
    "# Generate a line plot of tumor volume vs. time point for a mouse treated with Capomulin\n",
    "\n",
    "mouse_id = 'b128'\n",
    "merge_df_mouse = merge_df.loc[merge_df[\"Mouse ID\"] ==mouse_id]\n",
    "volumes = merge_df_mouse['Tumor Volume (mm3)']\n",
    "timepoint = merge_df_mouse['Timepoint']\n",
    "\n",
    "timepoint_count = timepoint.count()\n",
    "timepoint_count\n",
    "x_axis = np.arange(0, timepoint_count, 1)\n",
    "\n",
    "plt.figure(figsize=(10, 7))\n",
    "plt.xlim(-1, timepoint_count+1)\n",
    "plt.ylim(volumes.min()-2, volumes.max()+2)\n",
    "plt.title(f\"Tumor Volume Vs. Timepoints of Mouse {mouse_id}\")\n",
    "plt.xlabel(\"Time Points\")\n",
    "plt.ylabel(\"Tumor Volume\")\n",
    "\n",
    "plt.plot(x_axis, volumes)\n",
    "\n",
    "plt.show()"
   ]
  },
  {
   "cell_type": "code",
   "execution_count": 243,
   "metadata": {},
   "outputs": [
    {
     "data": {
      "image/png": "[encoded data removed]",
      "text/plain": [
       "<Figure size 720x504 with 1 Axes>"
      ]
     },
     "metadata": {
      "needs_background": "light"
     },
     "output_type": "display_data"
    }
   ],
   "source": [
    "# Generate a scatter plot of average tumor volume vs. mouse weight for the Capomulin regimen\n",
    "\n",
    "drug_regimen = 'Capomulin'\n",
    "mouse_final_vol = mouse_final_vol.loc[mouse_final_vol[\"Drug Regimen\"] == drug_regimen]\n",
    "\n",
    "ave_volume = mouse_final_vol['Tumor Volume (mm3)']\n",
    "mouse_weight = mouse_final_vol['Weight (g)']\n",
    "\n",
    "plt.figure(figsize=(10, 7))\n",
    "plt.xlim(mouse_weight.min()-2, mouse_weight.max()+2)\n",
    "plt.ylim(ave_volume.min()-2, ave_volume.max()+2)\n",
    "plt.title(f\"Tumor Volume Vs. Mouse Weight for {drug_regimen}\")\n",
    "plt.xlabel(\"Mouse Weight in Grams\")\n",
    "plt.ylabel(\"Tumor Volume\")\n",
    "\n",
    "plt.scatter(mouse_weight, ave_volume, marker=\"o\", facecolors=\"darkred\", s=mouse_weight, alpha=1)\n",
    "plt.show()"
   ]
  },
  {
   "cell_type": "markdown",
   "metadata": {},
   "source": [
    "## Correlation and Regression"
   ]
  },
  {
   "cell_type": "code",
   "execution_count": 254,
   "metadata": {},
   "outputs": [
    {
     "name": "stdout",
     "output_type": "stream",
     "text": [
      "Correlation coefficient between mouse weight and tumor volume: 0.88\n"
     ]
    },
    {
     "data": {
      "image/png": "[encoded data removed]",
      "text/plain": [
       "<Figure size 720x504 with 1 Axes>"
      ]
     },
     "metadata": {
      "needs_background": "light"
     },
     "output_type": "display_data"
    }
   ],
   "source": [
    "# Calculate the correlation coefficient and linear regression model \n",
    "# for mouse weight and average tumor volume for the Capomulin regimen\n",
    "\n",
    "\n",
    "print(f\"Correlation coefficient between mouse weight and tumor volume: \\\n",
    "{round(st.pearsonr(mouse_weight,ave_volume)[0],2)}\")\n",
    "\n",
    "# Create equation of line to calculate predicted violent crime rate\n",
    "\n",
    "slope, intercept, rvalue, pvalue, stderr = stats.linregress(mouse_weight, ave_volume)\n",
    "\n",
    "regress_values = mouse_weight * slope + intercept\n",
    "\n",
    "line_eq = \"y = \" + str(round(slope,2)) + \"x + \" + str(round(intercept,2))\n",
    "\n",
    "# Plot the linear model on top of scatter plot \n",
    "plt.figure(figsize=(10, 7))\n",
    "plt.xlim(mouse_weight.min()-1, mouse_weight.max()+1)\n",
    "plt.ylim(ave_volume.min()-2, ave_volume.max()+2)\n",
    "plt.title(f\"Tumor Volume Vs. Mouse Weight for {drug_regimen}\")\n",
    "plt.xlabel(\"Mouse Weight in Grams\")\n",
    "plt.ylabel(\"Tumor Volume\")\n",
    "plt.annotate(line_eq,(21,25),fontsize=15, color=\"steelblue\")\n",
    "plt.scatter(mouse_weight, ave_volume, marker=\"o\", facecolors=\"darkred\", s=mouse_weight, alpha=1)\n",
    "plt.plot(mouse_weight, regress_values, color=\"steelblue\", linestyle='dashed')\n",
    "plt.xticks(mouse_weight, rotation=0 )\n",
    "\n",
    "plt.show()"
   ]
  },
  {
   "cell_type": "code",
   "execution_count": null,
   "metadata": {},
   "outputs": [],
   "source": []
  }
 ],
 "metadata": {
  "anaconda-cloud": {},
  "kernelspec": {
   "display_name": "Python 3",
   "language": "python",
   "name": "python3"
  },
  "language_info": {
   "codemirror_mode": {
    "name": "ipython",
    "version": 3
   },
   "file_extension": ".py",
   "mimetype": "text/x-python",
   "name": "python",
   "nbconvert_exporter": "python",
   "pygments_lexer": "ipython3",
   "version": "3.8.5"
  }
 },
 "nbformat": 4,
 "nbformat_minor": 4
}
